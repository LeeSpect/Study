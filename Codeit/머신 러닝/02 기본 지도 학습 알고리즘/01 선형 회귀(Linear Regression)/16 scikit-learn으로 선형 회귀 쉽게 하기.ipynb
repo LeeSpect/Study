{
 "cells": [
  {
   "cell_type": "code",
   "execution_count": 15,
   "metadata": {},
   "outputs": [],
   "source": [
    "### <- 이전 수업에 이어서\n",
    "# 저번 영상에서는 데이터를 트레이닝 셋과 테스트 셋으로 나눴습니다. 이제 트레이닝 셋을 이용해서 선형 회귀 모델을 학습시켜보겠습니다. 그러기 위해서는 sklearn 라이브러리에서 선형 회귀 모델을 불러와야 하는데요. \n",
    "# from sklearn.linear_model import LinearRegression 이렇게 하면 됩니다. 그리고 셀을 다시 실행시키겠습니다. 사실 꼭 위에 쓸 필요는 없지만 module 불러오는 것은 위에서 한꺼번에 하는 것이 좋으니까 위에 다 몰아서 쓰겠습니다.\n",
    "# 이제 이 LinearRegression 모델을 쓰면 선형 회귀를 쉽게 사용할 수 있습니다. 이전에는 우리가 하나하나 직접 구현을 했었는데 여기 sklearn에는 누가 이미 다 만들어 놓은 것입니다. 한번 사용해보겠습니다.\n",
    "\n",
    "from sklearn.datasets import load_boston\n",
    "from sklearn.model_selection import train_test_split\n",
    "from sklearn.linear_model import LinearRegression\n",
    "from sklearn.metrics import mean_squared_error\n",
    "\n",
    "import pandas as pd"
   ]
  },
  {
   "cell_type": "code",
   "execution_count": 2,
   "metadata": {},
   "outputs": [],
   "source": [
    "boston_dataset = load_boston()"
   ]
  },
  {
   "cell_type": "code",
   "execution_count": 3,
   "metadata": {},
   "outputs": [],
   "source": [
    "x = pd.DataFrame(boston_dataset.data, columns=boston_dataset.feature_names)"
   ]
  },
  {
   "cell_type": "code",
   "execution_count": 4,
   "metadata": {},
   "outputs": [
    {
     "data": {
      "text/html": [
       "<div>\n",
       "<style scoped>\n",
       "    .dataframe tbody tr th:only-of-type {\n",
       "        vertical-align: middle;\n",
       "    }\n",
       "\n",
       "    .dataframe tbody tr th {\n",
       "        vertical-align: top;\n",
       "    }\n",
       "\n",
       "    .dataframe thead th {\n",
       "        text-align: right;\n",
       "    }\n",
       "</style>\n",
       "<table border=\"1\" class=\"dataframe\">\n",
       "  <thead>\n",
       "    <tr style=\"text-align: right;\">\n",
       "      <th></th>\n",
       "      <th>MEDV</th>\n",
       "    </tr>\n",
       "  </thead>\n",
       "  <tbody>\n",
       "    <tr>\n",
       "      <th>0</th>\n",
       "      <td>24.0</td>\n",
       "    </tr>\n",
       "    <tr>\n",
       "      <th>1</th>\n",
       "      <td>21.6</td>\n",
       "    </tr>\n",
       "    <tr>\n",
       "      <th>2</th>\n",
       "      <td>34.7</td>\n",
       "    </tr>\n",
       "    <tr>\n",
       "      <th>3</th>\n",
       "      <td>33.4</td>\n",
       "    </tr>\n",
       "    <tr>\n",
       "      <th>4</th>\n",
       "      <td>36.2</td>\n",
       "    </tr>\n",
       "    <tr>\n",
       "      <th>...</th>\n",
       "      <td>...</td>\n",
       "    </tr>\n",
       "    <tr>\n",
       "      <th>501</th>\n",
       "      <td>22.4</td>\n",
       "    </tr>\n",
       "    <tr>\n",
       "      <th>502</th>\n",
       "      <td>20.6</td>\n",
       "    </tr>\n",
       "    <tr>\n",
       "      <th>503</th>\n",
       "      <td>23.9</td>\n",
       "    </tr>\n",
       "    <tr>\n",
       "      <th>504</th>\n",
       "      <td>22.0</td>\n",
       "    </tr>\n",
       "    <tr>\n",
       "      <th>505</th>\n",
       "      <td>11.9</td>\n",
       "    </tr>\n",
       "  </tbody>\n",
       "</table>\n",
       "<p>506 rows × 1 columns</p>\n",
       "</div>"
      ],
      "text/plain": [
       "     MEDV\n",
       "0    24.0\n",
       "1    21.6\n",
       "2    34.7\n",
       "3    33.4\n",
       "4    36.2\n",
       "..    ...\n",
       "501  22.4\n",
       "502  20.6\n",
       "503  23.9\n",
       "504  22.0\n",
       "505  11.9\n",
       "\n",
       "[506 rows x 1 columns]"
      ]
     },
     "execution_count": 4,
     "metadata": {},
     "output_type": "execute_result"
    }
   ],
   "source": [
    "x = x[['AGE']]\n",
    "\n",
    "y = pd.DataFrame(boston_dataset.target, columns=['MEDV'])\n",
    "y"
   ]
  },
  {
   "cell_type": "code",
   "execution_count": 5,
   "metadata": {},
   "outputs": [
    {
     "name": "stdout",
     "output_type": "stream",
     "text": [
      "(404, 1)\n",
      "(102, 1)\n",
      "(404, 1)\n",
      "(102, 1)\n"
     ]
    }
   ],
   "source": [
    "x_train, x_test, y_train, y_test = train_test_split(x, y, test_size=0.2, random_state=5)\n",
    "print(x_train.shape)\n",
    "print(x_test.shape)\n",
    "print(y_train.shape)\n",
    "print(y_test.shape)"
   ]
  },
  {
   "cell_type": "code",
   "execution_count": 10,
   "metadata": {},
   "outputs": [
    {
     "data": {
      "text/plain": [
       "LinearRegression()"
      ]
     },
     "execution_count": 10,
     "metadata": {},
     "output_type": "execute_result"
    }
   ],
   "source": [
    "# LinearRegression을 쓰고 괄호를 열고 닫습니다. 그리고 이것을 모델이라는 변수에 저장하겠습니다.\n",
    "model = LinearRegression()\n",
    "# 이제 모델을 쓰고 fit이라는 메소드를 씁니다. 첫 파라미터로는 트레이닝 셋의 입력 변수 x_train이죠. 그리고 두 번째 파라미터로는 트레이닝 셋의 목표 변수 y_train이겠죠. 이렇게 하면 트레이닝 셋에 대한 학습이 끝납니다.\n",
    "model.fit(x_train, y_train)"
   ]
  },
  {
   "cell_type": "code",
   "execution_count": 11,
   "metadata": {},
   "outputs": [
    {
     "data": {
      "text/plain": [
       "array([[-0.12402883]])"
      ]
     },
     "execution_count": 11,
     "metadata": {},
     "output_type": "execute_result"
    }
   ],
   "source": [
    "# 학습이 끝나면 이 모델 변수에 학습된 모델의 정보들이 있는데요. model.coef_를 하면 세타1의 값이 나옵니다.\n",
    "model.coef_"
   ]
  },
  {
   "cell_type": "code",
   "execution_count": 12,
   "metadata": {},
   "outputs": [
    {
     "data": {
      "text/plain": [
       "array([31.04617413])"
      ]
     },
     "execution_count": 12,
     "metadata": {},
     "output_type": "execute_result"
    }
   ],
   "source": [
    "# model.intercept_를 하면 세타0의 값이 나옵니다.\n",
    "model.intercept_\n",
    "\n",
    "# 이것을 해석해보자면 우리가 구한 최적선이 f(x) = 31.0417413 - 0.12402883x 이것이 우리가 구한 최적선입니다."
   ]
  },
  {
   "cell_type": "code",
   "execution_count": 14,
   "metadata": {},
   "outputs": [
    {
     "data": {
      "text/plain": [
       "array([[20.31768041],\n",
       "       [28.14389953],\n",
       "       [22.84786852],\n",
       "       [18.64329122],\n",
       "       [24.62148078],\n",
       "       [19.99520545],\n",
       "       [19.75955068],\n",
       "       [22.79825699],\n",
       "       [20.92542167],\n",
       "       [21.74401194],\n",
       "       [23.29437231],\n",
       "       [25.41526529],\n",
       "       [21.53316293],\n",
       "       [25.94858925],\n",
       "       [23.76568186],\n",
       "       [24.55946636],\n",
       "       [18.64329122],\n",
       "       [18.64329122],\n",
       "       [22.00447248],\n",
       "       [18.64329122],\n",
       "       [18.89134887],\n",
       "       [18.90375176],\n",
       "       [21.33471681],\n",
       "       [22.71143681],\n",
       "       [28.46637448],\n",
       "       [19.06498923],\n",
       "       [24.31140871],\n",
       "       [22.05408402],\n",
       "       [26.32067574],\n",
       "       [26.59353916],\n",
       "       [19.0153777 ],\n",
       "       [18.85414022],\n",
       "       [19.30064401],\n",
       "       [18.7301114 ],\n",
       "       [28.76404367],\n",
       "       [18.92855752],\n",
       "       [21.5579687 ],\n",
       "       [19.21382383],\n",
       "       [19.69753626],\n",
       "       [29.08651863],\n",
       "       [19.56110455],\n",
       "       [18.64329122],\n",
       "       [21.02464473],\n",
       "       [20.14404005],\n",
       "       [24.72070384],\n",
       "       [25.16720763],\n",
       "       [18.64329122],\n",
       "       [19.5238959 ],\n",
       "       [18.97816905],\n",
       "       [19.43707572],\n",
       "       [20.47891789],\n",
       "       [25.62611429],\n",
       "       [25.46487682],\n",
       "       [19.02778059],\n",
       "       [18.82933446],\n",
       "       [26.61834493],\n",
       "       [26.46951033],\n",
       "       [20.31768041],\n",
       "       [27.18887754],\n",
       "       [25.37805664],\n",
       "       [21.16107645],\n",
       "       [25.19201339],\n",
       "       [19.13940653],\n",
       "       [18.96576617],\n",
       "       [20.70216978],\n",
       "       [19.13940653],\n",
       "       [19.33785266],\n",
       "       [30.23998674],\n",
       "       [28.87566962],\n",
       "       [24.44784042],\n",
       "       [19.43707572],\n",
       "       [24.49745195],\n",
       "       [23.35638672],\n",
       "       [18.64329122],\n",
       "       [18.64329122],\n",
       "       [26.5687334 ],\n",
       "       [19.31304689],\n",
       "       [19.27583824],\n",
       "       [19.32544978],\n",
       "       [19.22622671],\n",
       "       [19.79675933],\n",
       "       [19.39986707],\n",
       "       [19.72234203],\n",
       "       [19.26343536],\n",
       "       [27.18887754],\n",
       "       [18.85414022],\n",
       "       [21.93005519],\n",
       "       [19.0153777 ],\n",
       "       [23.85250204],\n",
       "       [28.75164079],\n",
       "       [24.39822889],\n",
       "       [19.98280257],\n",
       "       [20.13163716],\n",
       "       [18.64329122],\n",
       "       [28.91287827],\n",
       "       [28.42916583],\n",
       "       [18.84173734],\n",
       "       [26.76717952],\n",
       "       [24.37342312],\n",
       "       [19.38746419],\n",
       "       [23.02150888],\n",
       "       [24.95635862]])"
      ]
     },
     "execution_count": 14,
     "metadata": {},
     "output_type": "execute_result"
    }
   ],
   "source": [
    "# 이제 우리는 이 최적선이 예측을 잘 하는지 알고 싶습니다.\n",
    "# 이 모델이 트레이닝 셋으로 학습을 한 것이기 때문에 트레이닐 셋으로 평가하면 신빙성이 떨어집니다. 그래서 아까 따로 빼둔 테스트 셋으로 평가를 해야 합니다.\n",
    "# 우리가 구한 이 최적선으로 새 데이터에 대한 예측을 하려면 model.predict()를 쓰고 파라미터로는 테스트 셋의 입력 변수 x_test를 넘기겠습니다.\n",
    "# 그리고 예측된 결과를 y_test_prediction이라는 변수에 저장하고 이것을 출력해보면 다음과 같이 쭉 나옵니다. 이것이 테스트 셋에 대한 예측값들인 겁니다.\n",
    "y_test_prediction = model.predict(x_test)\n",
    "y_test_prediction"
   ]
  },
  {
   "cell_type": "code",
   "execution_count": 16,
   "metadata": {},
   "outputs": [
    {
     "data": {
      "text/plain": [
       "8.236881612652455"
      ]
     },
     "execution_count": 16,
     "metadata": {},
     "output_type": "execute_result"
    }
   ],
   "source": [
    "# 그런데 이것은 예측값인 것이고, 변수 y_test. 이 y_test에는 테스트 셋의 실제 목표 변수 값들이 들어가 있습니다.\n",
    "# 밑에 있는 이 예측 값들과 실제 아웃풋 값을 비교홰서 우리의 모델을 평가하고 싶은데요.\n",
    "# 보통은 '평균 제곱근 오차'라는 것을 쓴다고 전에 설명드렸습니다. 그냥 평균 제곱 오차에 루트를 한 것입니다.\n",
    "# 그걸 하기 위해서 평균 제곱 오차를 구하는 함수를 불러오겠습니다.\n",
    "# import mean_square_error을 입력하고 다시 실행하고 밑으로 내려와서 mean_square_error 함수의 파라미터로 비교하고 싶은 y_test랑 y_test_prediction을 넣으면 됩니다.\n",
    "mean_squared_error(y_test, y_test_prediction) ** 0.5\n",
    "# 이렇게 하면 평균 제곱 오차가 나오는데 우리는 평균 제곱 오차가 아니라 평균 제곱근 오차를 구하고 싶으니까 여기에 루트를 해야 합니다. 루트는 0.5 제곱과 같으니 이렇게 별표 두 개(**)를 쓰고 0.5를 쓰면 됩니다.\n",
    "\n",
    "# 실행하면 8.24 정도가 나오네요. 트레이닝 셋으로 모델을 학습시키고 그 모델을 테스트 셋에 적용해서 평가를 해봤더니 오차가 이 정도 나온 것입니다.\n",
    "# 이 모델로 집값을 예측하면 한 8천 달러 정도의 오차가 있다고 생각하시면 됩니다."
   ]
  }
 ],
 "metadata": {
  "kernelspec": {
   "display_name": "Python 3",
   "language": "python",
   "name": "python3"
  },
  "language_info": {
   "codemirror_mode": {
    "name": "ipython",
    "version": 3
   },
   "file_extension": ".py",
   "mimetype": "text/x-python",
   "name": "python",
   "nbconvert_exporter": "python",
   "pygments_lexer": "ipython3",
   "version": "3.8.2"
  }
 },
 "nbformat": 4,
 "nbformat_minor": 4
}
