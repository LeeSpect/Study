{
 "cells": [
  {
   "cell_type": "code",
   "execution_count": 5,
   "metadata": {},
   "outputs": [],
   "source": [
    "import numpy as np"
   ]
  },
  {
   "cell_type": "code",
   "execution_count": 8,
   "metadata": {},
   "outputs": [
    {
     "data": {
      "text/plain": [
       "array([[ 1, -1,  2],\n",
       "       [ 3,  2,  2],\n",
       "       [ 4,  1,  2],\n",
       "       [ 7,  5,  6]])"
      ]
     },
     "execution_count": 8,
     "metadata": {},
     "output_type": "execute_result"
    }
   ],
   "source": [
    "# 행렬을 만들기 위해서는 numpy의 array 메소드를 쓰고 파라미터로 리스트를 넘겨주면 되는데요.\n",
    "# 행렬을 만들고 싶으면 2차원 배열을 쓰면 됩니다.\n",
    "\n",
    "A = np.array([\n",
    "    [1, -1, 2],\n",
    "    [3, 2, 2],\n",
    "    [4, 1, 2],\n",
    "    [7, 5, 6]\n",
    "])\n",
    "\n",
    "# 이렇게 2차원 배열을 썼습니다. 2차원 배열이라는 것은 리스트 안에 리스트가 있다는 것인데요.\n",
    "# 지금 보시면 리스트 안에 리스트 네 개를 넣었죠? 이렇게 하면 numpy가 4 x 3 행렬을 만들어줍니다.\n",
    "# 이것을 변수 A에 저장하겠습니다.\n",
    "\n",
    "A\n",
    "\n",
    "# 이것은 4 x 3 행렬이니까 행이 네 개 잇고 열이 세 개 있다는 것입니다.\n",
    "# 1,3,4,7 이것이 하나의 열이고, -1,2,1,5 이것이 또 하나의 열이고, 2,2,2,6 이것이 마지막 열입니다."
   ]
  },
  {
   "cell_type": "code",
   "execution_count": 9,
   "metadata": {},
   "outputs": [
    {
     "data": {
      "text/plain": [
       "array([[ 0,  1],\n",
       "       [-1,  3],\n",
       "       [ 5,  2]])"
      ]
     },
     "execution_count": 9,
     "metadata": {},
     "output_type": "execute_result"
    }
   ],
   "source": [
    "# 하나 더 만들어보겠습니다. 이번에는 3 x 2 행렬을 만들겠습니다.\n",
    "\n",
    "B = np.array([\n",
    "    [0, 1],\n",
    "    [-1, 3],\n",
    "    [5, 2]\n",
    "])\n",
    "\n",
    "B\n",
    "\n",
    "# 우선 행이 세 개 있습니다. 그리고 0,-1,5 이것이 하나의 열이고, 1,3,2 이것이 또 다른 열인 것이죠."
   ]
  },
  {
   "cell_type": "code",
   "execution_count": 10,
   "metadata": {},
   "outputs": [
    {
     "data": {
      "text/plain": [
       "array([[0.01885466, 0.34138377, 0.29547086, 0.700379  , 0.99961424],\n",
       "       [0.39070729, 0.2348571 , 0.55984346, 0.1403149 , 0.90235927],\n",
       "       [0.09918316, 0.76298414, 0.28453191, 0.31381221, 0.51987388]])"
      ]
     },
     "execution_count": 10,
     "metadata": {},
     "output_type": "execute_result"
    }
   ],
   "source": [
    "# A와 B는 우리가 원하는 값들을 넣어서 만든 것인데요. 이번에는 행렬에 랜덤한 값들을 넣겠습니다.\n",
    "# np.random.rand()를 하고 괄호 안에 차원을 쓰면 됩니다. 3 x 5 행렬을 만드로 싶으면 3, 5를 쓰면 되는 것이죠.\n",
    "\n",
    "C = np.random.rand(3, 5)\n",
    "\n",
    "# 이것을 변수 C에 넣어주겠습니다\n",
    "\n",
    "C\n",
    "\n",
    "# 그러면 보시다시피 3 x 5 행렬이 나오는데, 0과 1사이의 랜덤한 값들이 들어가 있습니다."
   ]
  },
  {
   "cell_type": "code",
   "execution_count": 12,
   "metadata": {},
   "outputs": [
    {
     "data": {
      "text/plain": [
       "array([[0., 0., 0., 0.],\n",
       "       [0., 0., 0., 0.]])"
      ]
     },
     "execution_count": 12,
     "metadata": {},
     "output_type": "execute_result"
    }
   ],
   "source": [
    "# 만약 모든 값이 0인 행렬을 만들고 싶으면 zeros라는 메소드를 쓰고, 그 안에 차원을 쓰면 됩니다.\n",
    "# 이번에는 2 x 4 행렬을 만들고 싶다고 가정합시다. zeros 메소드에는 그냥 (2,4)만 쓰는 것이 아니라\n",
    "# **안에 괄호를 한 번 더 써줘야 합니다.** 이것을 꼭 기억해 주세요.\n",
    "\n",
    "D = np.zeros((2, 4))\n",
    "\n",
    "# 그리고 이것을 D라는 변수에 넣어주겠습니다. 그러면 2 x 4 행렬이 나오고 모든 값은 0입니다.\n",
    "\n",
    "D"
   ]
  },
  {
   "cell_type": "code",
   "execution_count": 13,
   "metadata": {},
   "outputs": [
    {
     "data": {
      "text/plain": [
       "array([[ 1, -1,  2],\n",
       "       [ 3,  2,  2],\n",
       "       [ 4,  1,  2],\n",
       "       [ 7,  5,  6]])"
      ]
     },
     "execution_count": 13,
     "metadata": {},
     "output_type": "execute_result"
    }
   ],
   "source": [
    "# 이제 행렬에서 원소를 받아오는 방법을 보겠습니다.\n",
    "# 처음에 만들었던 행렬 A를 봅시다.\n",
    "\n",
    "A"
   ]
  },
  {
   "cell_type": "code",
   "execution_count": 14,
   "metadata": {},
   "outputs": [
    {
     "data": {
      "text/plain": [
       "2"
      ]
     },
     "execution_count": 14,
     "metadata": {},
     "output_type": "execute_result"
    }
   ],
   "source": [
    "# 위에서 1행 3열의 원소를 받아오고 싶으면 어떻게 해야 될까요?\n",
    "# 그냥 2차원 리스트의 원소를 받아오는 것과 똑같습니다.\n",
    "# 행렬을 쓰고 대괄호 안에 행을 쓰고 그 다음에 대괄호 안에 열을 쓰면 되는 것이죠.\n",
    "\n",
    "# A[1][3]\n",
    "\n",
    "# 그런데 여기서 주의하셔야 할 것이 하나 있습니다. 우리가 받아오고 싶은 1행 3열이죠?\n",
    "# 파이썬에서는 1부터 세는 것이 아니라 0부터 세는 것이기 때문에 \n",
    "# 1행 3열을 받아오고 싶으면 [1][3]이 아니라 [0][2]를 써야 합니다.\n",
    "\n",
    "A[0][2]"
   ]
  },
  {
   "cell_type": "code",
   "execution_count": 15,
   "metadata": {},
   "outputs": [
    {
     "ename": "IndexError",
     "evalue": "index 5 is out of bounds for axis 0 with size 3",
     "output_type": "error",
     "traceback": [
      "\u001b[1;31m---------------------------------------------------------------------------\u001b[0m",
      "\u001b[1;31mIndexError\u001b[0m                                Traceback (most recent call last)",
      "\u001b[1;32m<ipython-input-15-0466e1368415>\u001b[0m in \u001b[0;36m<module>\u001b[1;34m\u001b[0m\n\u001b[0;32m      1\u001b[0m \u001b[1;31m# 만약 아래와 같이 행렬의 크기를 넘어서는, 어떤 범위를 넘어서는 값을 쓰면 어떻게 될까요?\u001b[0m\u001b[1;33m\u001b[0m\u001b[1;33m\u001b[0m\u001b[1;33m\u001b[0m\u001b[0m\n\u001b[0;32m      2\u001b[0m \u001b[1;33m\u001b[0m\u001b[0m\n\u001b[1;32m----> 3\u001b[1;33m \u001b[0mA\u001b[0m\u001b[1;33m[\u001b[0m\u001b[1;36m0\u001b[0m\u001b[1;33m]\u001b[0m\u001b[1;33m[\u001b[0m\u001b[1;36m5\u001b[0m\u001b[1;33m]\u001b[0m\u001b[1;33m\u001b[0m\u001b[1;33m\u001b[0m\u001b[0m\n\u001b[0m\u001b[0;32m      4\u001b[0m \u001b[1;33m\u001b[0m\u001b[0m\n\u001b[0;32m      5\u001b[0m \u001b[1;31m# 당연히 오류가 나오겠죠?\u001b[0m\u001b[1;33m\u001b[0m\u001b[1;33m\u001b[0m\u001b[1;33m\u001b[0m\u001b[0m\n",
      "\u001b[1;31mIndexError\u001b[0m: index 5 is out of bounds for axis 0 with size 3"
     ]
    }
   ],
   "source": [
    "# 만약 아래와 같이 행렬의 크기를 넘어서는, 어떤 범위를 넘어서는 값을 쓰면 어떻게 될까요?\n",
    "\n",
    "A[0][5]\n",
    "\n",
    "# 당연히 오류가 나오겠죠?"
   ]
  },
  {
   "cell_type": "code",
   "execution_count": null,
   "metadata": {},
   "outputs": [],
   "source": [
    "\n",
    "\n"
   ]
  }
 ],
 "metadata": {
  "kernelspec": {
   "display_name": "Python 3",
   "language": "python",
   "name": "python3"
  },
  "language_info": {
   "codemirror_mode": {
    "name": "ipython",
    "version": 3
   },
   "file_extension": ".py",
   "mimetype": "text/x-python",
   "name": "python",
   "nbconvert_exporter": "python",
   "pygments_lexer": "ipython3",
   "version": "3.8.2"
  }
 },
 "nbformat": 4,
 "nbformat_minor": 4
}
